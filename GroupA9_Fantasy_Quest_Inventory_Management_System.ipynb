{
  "nbformat": 4,
  "nbformat_minor": 0,
  "metadata": {
    "colab": {
      "provenance": [],
      "authorship_tag": "ABX9TyOrO3Pl/Gbip6u8LZ5ZZbv4",
      "include_colab_link": true
    },
    "kernelspec": {
      "name": "python3",
      "display_name": "Python 3"
    },
    "language_info": {
      "name": "python"
    }
  },
  "cells": [
    {
      "cell_type": "markdown",
      "metadata": {
        "id": "view-in-github",
        "colab_type": "text"
      },
      "source": [
        "<a href=\"https://colab.research.google.com/github/Omdena-Bhutan/02-data-structures-group-9/blob/main/GroupA9_Fantasy_Quest_Inventory_Management_System.ipynb\" target=\"_parent\"><img src=\"https://colab.research.google.com/assets/colab-badge.svg\" alt=\"Open In Colab\"/></a>"
      ]
    },
    {
      "cell_type": "code",
      "execution_count": null,
      "metadata": {
        "id": "bSq4E_RGtwxG"
      },
      "outputs": [],
      "source": []
    },
    {
      "cell_type": "code",
      "source": [
        "character_profile = {'name':'Alistair the Brave', 'level':1, 'health':'100', 'mana': '50', 'gold': '50.75', 'is_alive':'True'}"
      ],
      "metadata": {
        "id": "0vnKX_rP3sF0"
      },
      "execution_count": 7,
      "outputs": []
    },
    {
      "cell_type": "code",
      "source": [
        "print ('Alistair the Brave', 1)"
      ],
      "metadata": {
        "colab": {
          "base_uri": "https://localhost:8080/"
        },
        "id": "cS6VPBGA5xr3",
        "outputId": "8f682f9c-87b3-4260-d711-f83b2b8d0d99"
      },
      "execution_count": 4,
      "outputs": [
        {
          "output_type": "stream",
          "name": "stdout",
          "text": [
            "Alistair the Brave 1\n"
          ]
        }
      ]
    },
    {
      "cell_type": "code",
      "source": [
        "character_profile['health'] = 85"
      ],
      "metadata": {
        "id": "Z8Z80TFP7Gwt"
      },
      "execution_count": 13,
      "outputs": []
    },
    {
      "cell_type": "code",
      "source": [
        "character_profile['experience'] = 0"
      ],
      "metadata": {
        "id": "IhA4CixW7suZ"
      },
      "execution_count": 10,
      "outputs": []
    },
    {
      "cell_type": "code",
      "source": [
        "print (character_profile)"
      ],
      "metadata": {
        "colab": {
          "base_uri": "https://localhost:8080/"
        },
        "id": "S9cxEoYA8yhH",
        "outputId": "d345a2f8-e88b-4c54-966c-3dd4dd219341"
      },
      "execution_count": 14,
      "outputs": [
        {
          "output_type": "stream",
          "name": "stdout",
          "text": [
            "{'name': 'Alistair the Brave', 'level': 1, 'health': 85, 'mana': '50', 'gold': '50.75', 'is_alive': 'True', 'experience': 0}\n"
          ]
        }
      ]
    },
    {
      "cell_type": "code",
      "source": [
        "Inventory = ['sword','shield', 'health potion']"
      ],
      "metadata": {
        "id": "Tle20wOV9ejd"
      },
      "execution_count": 15,
      "outputs": []
    },
    {
      "cell_type": "code",
      "source": [
        "Append: Inventory.append('mana potion')"
      ],
      "metadata": {
        "id": "Nxgf47Ou9xIL"
      },
      "execution_count": 16,
      "outputs": []
    },
    {
      "cell_type": "code",
      "source": [
        "Append: Inventory.remove('shield')"
      ],
      "metadata": {
        "id": "H_55ksM3-D5G"
      },
      "execution_count": 17,
      "outputs": []
    },
    {
      "cell_type": "code",
      "source": [
        "print(Inventory)"
      ],
      "metadata": {
        "colab": {
          "base_uri": "https://localhost:8080/"
        },
        "id": "7t7WFaDD-yub",
        "outputId": "4349b079-4c34-4c76-f75b-30f5f66dcdbe"
      },
      "execution_count": 19,
      "outputs": [
        {
          "output_type": "stream",
          "name": "stdout",
          "text": [
            "['sword', 'health potion', 'mana potion']\n"
          ]
        }
      ]
    },
    {
      "cell_type": "code",
      "source": [
        "Base_stats=('strength', 'dexterity','intelligence')"
      ],
      "metadata": {
        "id": "5Zh3B3zd_J_B"
      },
      "execution_count": 22,
      "outputs": []
    },
    {
      "cell_type": "code",
      "metadata": {
        "colab": {
          "base_uri": "https://localhost:8080/"
        },
        "id": "3633cd86",
        "outputId": "7e967901-5a84-4d13-c721-49d1d60a2814"
      },
      "source": [
        "base_stats_values = {'strength': 10, 'dexterity': 8, 'intelligence': 12}\n",
        "print(base_stats_values)"
      ],
      "execution_count": 25,
      "outputs": [
        {
          "output_type": "stream",
          "name": "stdout",
          "text": [
            "{'strength': 10, 'dexterity': 8, 'intelligence': 12}\n"
          ]
        }
      ]
    },
    {
      "cell_type": "code",
      "source": [
        "print ('Tuple is a good choice for base stats as they are immutable and cannot be changed')"
      ],
      "metadata": {
        "colab": {
          "base_uri": "https://localhost:8080/"
        },
        "id": "NVTtEfdiBJKo",
        "outputId": "0e134f50-c4e5-4973-e21f-516c76fb2f4c"
      },
      "execution_count": 26,
      "outputs": [
        {
          "output_type": "stream",
          "name": "stdout",
          "text": [
            "Tuple is a good choice for base stats as they are immutable and cannot be changed\n"
          ]
        }
      ]
    },
    {
      "cell_type": "code",
      "source": [
        "Access: print(base_stats_values['intelligence'])"
      ],
      "metadata": {
        "colab": {
          "base_uri": "https://localhost:8080/"
        },
        "id": "W7Z5tjrXBYwt",
        "outputId": "5ef3a100-9e3f-4bfa-e180-d785c189e18d"
      },
      "execution_count": 27,
      "outputs": [
        {
          "output_type": "stream",
          "name": "stdout",
          "text": [
            "12\n"
          ]
        }
      ]
    },
    {
      "cell_type": "code",
      "source": [
        "base_stats_values.append ['strength'] = 12"
      ],
      "metadata": {
        "colab": {
          "base_uri": "https://localhost:8080/",
          "height": 139
        },
        "id": "T5pbmbVkBuQu",
        "outputId": "e1a00329-0691-4053-ccdc-e81db42fff51"
      },
      "execution_count": 28,
      "outputs": [
        {
          "output_type": "error",
          "ename": "AttributeError",
          "evalue": "'dict' object has no attribute 'append'",
          "traceback": [
            "\u001b[0;31m---------------------------------------------------------------------------\u001b[0m",
            "\u001b[0;31mAttributeError\u001b[0m                            Traceback (most recent call last)",
            "\u001b[0;32m/tmp/ipython-input-573833590.py\u001b[0m in \u001b[0;36m<cell line: 0>\u001b[0;34m()\u001b[0m\n\u001b[0;32m----> 1\u001b[0;31m \u001b[0mbase_stats_values\u001b[0m\u001b[0;34m.\u001b[0m\u001b[0mappend\u001b[0m \u001b[0;34m[\u001b[0m\u001b[0;34m'strength'\u001b[0m\u001b[0;34m]\u001b[0m \u001b[0;34m=\u001b[0m \u001b[0;36m12\u001b[0m\u001b[0;34m\u001b[0m\u001b[0;34m\u001b[0m\u001b[0m\n\u001b[0m",
            "\u001b[0;31mAttributeError\u001b[0m: 'dict' object has no attribute 'append'"
          ]
        }
      ]
    },
    {
      "cell_type": "code",
      "source": [
        "quest_log={'Defeat the Goblin King','Find the Lost Amulet'}"
      ],
      "metadata": {
        "id": "n0fC6ag1Cnaw"
      },
      "execution_count": 30,
      "outputs": []
    },
    {
      "cell_type": "code",
      "source": [
        "quest_log.add('Deliver the Old Scroll')"
      ],
      "metadata": {
        "id": "hwGTAS_DDFaq"
      },
      "execution_count": 32,
      "outputs": []
    },
    {
      "cell_type": "code",
      "source": [
        "quest_log.add('Find the Lost Amulet')"
      ],
      "metadata": {
        "id": "sBxVE_dFD5ax"
      },
      "execution_count": 35,
      "outputs": []
    },
    {
      "cell_type": "code",
      "source": [
        "quest_log.remove('Find the Lost Amulet')"
      ],
      "metadata": {
        "id": "swpjCBerEPXX"
      },
      "execution_count": 36,
      "outputs": []
    },
    {
      "cell_type": "code",
      "source": [
        "print(quest_log)"
      ],
      "metadata": {
        "colab": {
          "base_uri": "https://localhost:8080/"
        },
        "id": "FctQIA8WEUa0",
        "outputId": "c89f07a6-a2b9-47fa-855f-7eac05f295b4"
      },
      "execution_count": 38,
      "outputs": [
        {
          "output_type": "stream",
          "name": "stdout",
          "text": [
            "{'Deliver the old scroll', 'Defeat the Goblin King', 'Deliver the Old Scroll'}\n"
          ]
        }
      ]
    },
    {
      "cell_type": "code",
      "source": [
        "character_sheet={'profile':character_profile, 'inventory':Inventory, 'base_stats':base_stats_values, 'quest_log':quest_log}"
      ],
      "metadata": {
        "id": "s5dVHrD6ElRz"
      },
      "execution_count": 39,
      "outputs": []
    },
    {
      "cell_type": "code",
      "source": [
        "print(character_sheet)"
      ],
      "metadata": {
        "colab": {
          "base_uri": "https://localhost:8080/"
        },
        "id": "ETxlJvZTE-do",
        "outputId": "1c6a357c-6abd-4eb6-a323-81cd6dc2ee99"
      },
      "execution_count": 40,
      "outputs": [
        {
          "output_type": "stream",
          "name": "stdout",
          "text": [
            "{'profile': {'name': 'Alistair the Brave', 'level': 1, 'health': 85, 'mana': '50', 'gold': '50.75', 'is_alive': 'True', 'experience': 0}, 'inventory': ['sword', 'health potion', 'mana potion'], 'base_stats': {'strength': 10, 'dexterity': 8, 'intelligence': 12}, 'quest_log': {'Deliver the old scroll', 'Defeat the Goblin King', 'Deliver the Old Scroll'}}\n"
          ]
        }
      ]
    }
  ]
}